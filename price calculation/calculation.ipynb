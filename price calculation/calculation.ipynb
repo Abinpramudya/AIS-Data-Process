{
 "cells": [
  {
   "cell_type": "code",
   "execution_count": 2,
   "metadata": {},
   "outputs": [],
   "source": [
    "import csv\n",
    "import matplotlib\n",
    "import pandas\n",
    "\n",
    "import tkinter as tk\n",
    "import tkinter.messagebox as messagebox\n",
    "\n"
   ]
  },
  {
   "cell_type": "markdown",
   "metadata": {},
   "source": [
    "# variable kapal\n",
    "### ada UI nya sedikit heheh"
   ]
  },
  {
   "cell_type": "code",
   "execution_count": 23,
   "metadata": {},
   "outputs": [],
   "source": [
    "identifier = None  # Initialize global variables\n",
    "GT = None\n",
    "type = None\n",
    "\n",
    "def get_validated_inputs():\n",
    "    global identifier, GT, type  # Declare global variables within the function\n",
    "\n",
    "    while True:\n",
    "        identifier = ID_entry.get()\n",
    "        if not identifier:  # Check for empty identifier\n",
    "            error_label.config(text=\"Please enter an identifier.\")\n",
    "            return None\n",
    "\n",
    "        try:\n",
    "            GT = int(GT_entry.get())\n",
    "        except ValueError:\n",
    "            error_label.config(text=\"Invalid GT value. Please enter an integer.\")\n",
    "            return None\n",
    "\n",
    "        type_input = type_var.get()\n",
    "        if type_input not in [\"Domestic\", \"International\"]:\n",
    "            error_label.config(text=\"Invalid type. Please choose Domestic or International.\")\n",
    "            return None\n",
    "\n",
    "        return identifier, GT, type_input == \"International\"  # Return type as boolean\n",
    "\n",
    "def confirm_inputs():\n",
    "    global identifier, GT , type  # Declare global variables within the function\n",
    "\n",
    "    data = get_validated_inputs()\n",
    "    if data:  # Proceed only if valid data is returned\n",
    "        identifier, GT, type = data\n",
    "        confirmation = messagebox.askyesno(\n",
    "            title=\"Confirmation\",\n",
    "            message=f\"You entered Identifier = {identifier}, GT = {GT}, and Type = {'International' if type else 'Domestic'}. Is this correct?\"\n",
    "        )\n",
    "        if confirmation:\n",
    "            root.destroy()\n",
    "\n",
    "root = tk.Tk()\n",
    "root.title(\"Input with Validation\")\n",
    "\n",
    "ID_label = tk.Label(root, text=\"Identifier\")\n",
    "ID_label.grid(row=0, column=0)\n",
    "ID_entry = tk.Entry(root)\n",
    "ID_entry.grid(row=0, column=1)\n",
    "\n",
    "GT_label = tk.Label(root, text=\"GT (integer):\")\n",
    "GT_label.grid(row=1, column=0)\n",
    "GT_entry = tk.Entry(root)\n",
    "GT_entry.grid(row=1, column=1)\n",
    "\n",
    "type_label = tk.Label(root, text=\"Type:\")\n",
    "type_label.grid(row=2, column=0)\n",
    "type_var = tk.StringVar(root)\n",
    "type_var.set(\"Domestic\")  # Set default value\n",
    "type_radio1 = tk.Radiobutton(root, text=\"Domestic\", variable=type_var, value=\"Domestic\")\n",
    "type_radio1.grid(row=2, column=1)\n",
    "type_radio2 = tk.Radiobutton(root, text=\"International\", variable=type_var, value=\"International\")\n",
    "type_radio2.grid(row=3, column=1)\n",
    "\n",
    "error_label = tk.Label(root, text=\"\", fg=\"red\")\n",
    "error_label.grid(row=4, column=0, columnspan=2)\n",
    "\n",
    "submit_button = tk.Button(root, text=\"Submit\", command=confirm_inputs)\n",
    "submit_button.grid(row=5, column=0, columnspan=2)\n",
    "\n",
    "root.mainloop()\n"
   ]
  },
  {
   "cell_type": "code",
   "execution_count": 24,
   "metadata": {},
   "outputs": [
    {
     "name": "stdout",
     "output_type": "stream",
     "text": [
      "A\n",
      "1\n",
      "False\n"
     ]
    }
   ],
   "source": [
    "print(identifier)\n",
    "print(GT)\n",
    "print(type)"
   ]
  }
 ],
 "metadata": {
  "kernelspec": {
   "display_name": "Python 3",
   "language": "python",
   "name": "python3"
  },
  "language_info": {
   "codemirror_mode": {
    "name": "ipython",
    "version": 3
   },
   "file_extension": ".py",
   "mimetype": "text/x-python",
   "name": "python",
   "nbconvert_exporter": "python",
   "pygments_lexer": "ipython3",
   "version": "3.10.0"
  }
 },
 "nbformat": 4,
 "nbformat_minor": 2
}
