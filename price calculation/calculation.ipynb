{
 "cells": [
  {
   "cell_type": "code",
   "execution_count": 8,
   "metadata": {},
   "outputs": [],
   "source": [
    "import csv\n",
    "import matplotlib\n",
    "import pandas\n",
    "import tkinter as tk\n",
    "import tkinter.messagebox as messagebox"
   ]
  },
  {
   "cell_type": "markdown",
   "metadata": {},
   "source": [
    "# variable kapal"
   ]
  },
  {
   "cell_type": "code",
   "execution_count": 9,
   "metadata": {},
   "outputs": [],
   "source": [
    "identifier = None  # Initialize global variables\n",
    "GT = None\n",
    "tipe = None #international = True , domestic = False\n",
    "kunjungan = None"
   ]
  },
  {
   "cell_type": "markdown",
   "metadata": {},
   "source": [
    "### Gross Tonnage Kapal"
   ]
  },
  {
   "cell_type": "code",
   "execution_count": 11,
   "metadata": {},
   "outputs": [],
   "source": [
    "def get_validated_inputs():\n",
    "    global identifier, GT, tipe  # Declare global variables within the function\n",
    "\n",
    "    while True:\n",
    "        identifier = ID_entry.get()\n",
    "        if not identifier:  # Check for empty identifier\n",
    "            error_label.config(text=\"Please enter an identifier.\")\n",
    "            return None\n",
    "\n",
    "        try:\n",
    "            GT = int(GT_entry.get())\n",
    "        except ValueError:\n",
    "            error_label.config(text=\"Invalid GT value. Please enter an integer.\")\n",
    "            return None\n",
    "\n",
    "        type_input = type_var.get()\n",
    "        if type_input not in [\"Domestic\", \"International\"]:\n",
    "            error_label.config(text=\"Invalid type. Please choose Domestic or International.\")\n",
    "            return None\n",
    "\n",
    "        return identifier, GT, type_input == \"International\"  # Return type as boolean\n",
    "\n",
    "def confirm_inputs():\n",
    "    global identifier, GT , tipe  # Declare global variables within the function\n",
    "\n",
    "    data = get_validated_inputs()\n",
    "    if data:  # Proceed only if valid data is returned\n",
    "        identifier, GT, tipe = data\n",
    "        confirmation = messagebox.askyesno(\n",
    "            title=\"Confirmation\",\n",
    "            message=f\"You entered Identifier = {identifier}, GT = {GT}, and Type = {'International' if type else 'Domestic'}. Is this correct?\"\n",
    "        )\n",
    "        if confirmation:\n",
    "            root.destroy()\n",
    "\n",
    "root = tk.Tk()\n",
    "root.title(\"Input with Validation\")\n",
    "\n",
    "ID_label = tk.Label(root, text=\"Identifier\")\n",
    "ID_label.grid(row=0, column=0)\n",
    "ID_entry = tk.Entry(root)\n",
    "ID_entry.grid(row=0, column=1)\n",
    "\n",
    "GT_label = tk.Label(root, text=\"GT (integer):\")\n",
    "GT_label.grid(row=1, column=0)\n",
    "GT_entry = tk.Entry(root)\n",
    "GT_entry.grid(row=1, column=1)\n",
    "\n",
    "type_label = tk.Label(root, text=\"Type:\")\n",
    "type_label.grid(row=2, column=0)\n",
    "type_var = tk.StringVar(root)\n",
    "type_var.set(\"Domestic\")  # Set default value\n",
    "type_radio1 = tk.Radiobutton(root, text=\"Domestic\", variable=type_var, value=\"Domestic\")\n",
    "type_radio1.grid(row=2, column=1)\n",
    "type_radio2 = tk.Radiobutton(root, text=\"International\", variable=type_var, value=\"International\")\n",
    "type_radio2.grid(row=3, column=1)\n",
    "\n",
    "error_label = tk.Label(root, text=\"\", fg=\"red\")\n",
    "error_label.grid(row=4, column=0, columnspan=2)\n",
    "\n",
    "submit_button = tk.Button(root, text=\"Submit\", command=confirm_inputs)\n",
    "submit_button.grid(row=5, column=0, columnspan=2)\n",
    "\n",
    "root.mainloop()"
   ]
  },
  {
   "cell_type": "code",
   "execution_count": 7,
   "metadata": {},
   "outputs": [
    {
     "name": "stdout",
     "output_type": "stream",
     "text": [
      "True\n"
     ]
    }
   ],
   "source": [
    "print(tipe)"
   ]
  },
  {
   "cell_type": "markdown",
   "metadata": {},
   "source": [
    "### rumus"
   ]
  },
  {
   "cell_type": "markdown",
   "metadata": {},
   "source": [
    "#### labuh"
   ]
  },
  {
   "cell_type": "code",
   "execution_count": 2,
   "metadata": {},
   "outputs": [],
   "source": [
    "def labuh(GT, kunjungan):\n",
    "    labuh = GT / kunjungan\n",
    "    return labuh"
   ]
  },
  {
   "cell_type": "markdown",
   "metadata": {},
   "source": [
    "#### pandu"
   ]
  },
  {
   "cell_type": "code",
   "execution_count": null,
   "metadata": {},
   "outputs": [],
   "source": [
    "def pandu(GT,tipe):\n",
    "\n",
    "    #international ships\n",
    "    if tipe == True: \n",
    "        tetap = 102 * 100%\n",
    "        variabel = 0.03 * GT * 100%\n",
    "        \n",
    "    #domestic ships\n",
    "    if tipe == False:\n",
    "        tetap = 225000 * 100%\n",
    "        variabel = 45 * GT * 100%\n",
    "\n",
    "    total_pandu = tetap + variabel\n",
    "    pnbp_pandu = total_pandu * 5%\n",
    "\n",
    "    return total_pandu , pnbp_pandu"
   ]
  },
  {
   "cell_type": "markdown",
   "metadata": {},
   "source": [
    "#### tunda"
   ]
  },
  {
   "cell_type": "code",
   "execution_count": null,
   "metadata": {},
   "outputs": [],
   "source": [
    "def tunda(GT,HP, durasi,tipe):\n",
    "    if GT in range(0,3500):\n",
    "        if tipe = True:\n",
    "            tetap = (HP/HP) * (durasi * 187 * 100%) * 100% \n",
    "            variabel =  (HP/HP) * (durasi * 0.005 * 100%) * 100%\n",
    "        else:\n",
    "            tetap = (HP/HP) * (durasi * 670.5 * 100%) * 100% \n",
    "            variabel =  (HP/HP) * (durasi * 30 * 100%) * 100%\n",
    "\n",
    "    if GT in range(3501,8000):\n",
    "        if tipe = True:\n",
    "            tetap = (HP/HP) * (durasi * 460 * 100%) * 100% \n",
    "            variabel =  (HP/HP) * (durasi * 0.005 * 100%) * 100%\n",
    "        else:\n",
    "            tetap = (HP/HP) * (durasi * 958367 * 100%) * 100% \n",
    "            variabel =  (HP/HP) * (durasi * 30 * 100%) * 100%\n",
    "\n",
    "    if GT in range(8001,14000):\n",
    "        if tipe = True:\n",
    "            tetap = (HP/HP) * (durasi * 696 * 100%) * 100% \n",
    "            variabel =  (HP/HP) * (durasi * 0.005 * 100%) * 100%\n",
    "        else:\n",
    "            tetap = (HP/HP) * (durasi * 1443149 * 100%) * 100% \n",
    "            variabel =  (HP/HP) * (durasi * 30 * 100%) * 100%\n",
    "    \n",
    "    if GT in range(14001,18000):\n",
    "        if tipe = True:\n",
    "            tetap = (HP/HP) * (durasi * 936 * 100%) * 100% \n",
    "            variabel =  (HP/HP) * (durasi * 0.005 * 100%) * 100%\n",
    "        else:\n",
    "            tetap = (HP/HP) * (durasi * 2043824 * 100%) * 100% \n",
    "            variabel =  (HP/HP) * (durasi * 30 * 100%) * 100%\n",
    "\n",
    "    if GT in range(18001,26000):\n",
    "        if tipe = True:\n",
    "            tetap = (HP/HP) * (durasi * 1498 * 100%) * 100% \n",
    "            variabel =  (HP/HP) * (durasi * 0.005 * 100%) * 100%\n",
    "        else:\n",
    "            tetap = (HP/HP) * (durasi * 2850000 * 100%) * 100% \n",
    "            variabel =  (HP/HP) * (durasi * 30 * 100%) * 100%\n",
    "\n",
    "    if GT in range(26001,40000):\n",
    "        if tipe = True:\n",
    "            tetap = (HP/HP) * (durasi * 1605 * 100%) * 100% \n",
    "            variabel =  (HP/HP) * (durasi * 0.005 * 100%) * 100%\n",
    "        else:\n",
    "            tetap = (HP/HP) * (durasi * 3300000 * 100%) * 100% \n",
    "            variabel =  (HP/HP) * (durasi * 30 * 100%) * 100%\n",
    "\n",
    "    if GT in range(40001,75000):\n",
    "        if tipe = True:\n",
    "            tetap = (HP/HP) * (durasi * 1766 * 100%) * 100% \n",
    "            variabel =  (HP/HP) * (durasi * 0.005 * 100%) * 100%\n",
    "        else:\n",
    "            tetap = (HP/HP) * (durasi * 3750000 * 100%) * 100% \n",
    "            variabel =  (HP/HP) * (durasi * 30 * 100%) * 100%\n",
    "\n",
    "    if GT in range(75000,250000):\n",
    "        if tipe = True:\n",
    "            tetap = (HP/HP) * (durasi * 2001 * 100%) * 100% \n",
    "            variabel =  (HP/HP) * (durasi * 0.005 * 100%) * 100%\n",
    "        else:\n",
    "            tetap = (HP/HP) * (durasi * 4500000 * 100%) * 100% \n",
    "            variabel =  (HP/HP) * (durasi * 30 * 100%) * 100%\n",
    "\n",
    "    total_tunda = tetap + variabel\n",
    "    pnbp_tunda = total_tunda * 5%\n",
    "\n",
    "    return total_tunda , pnbp_tunda\n",
    "    "
   ]
  },
  {
   "cell_type": "markdown",
   "metadata": {},
   "source": [
    "#### Tambat"
   ]
  },
  {
   "cell_type": "code",
   "execution_count": null,
   "metadata": {},
   "outputs": [],
   "source": [
    "def tambat (durasi,GT,tipe):\n",
    "    jam = durasi / 3600\n",
    "    etmal = 24 / jam\n",
    "\n",
    "    if tipe == True:\n",
    "        total_tambat = (etmal * 0,131 * GT * 100%) * 100%\n",
    "    else:\n",
    "        total_tambat = (etmal * 116 * GT * 100%) * 100%\n"
   ]
  }
 ],
 "metadata": {
  "kernelspec": {
   "display_name": "Python 3",
   "language": "python",
   "name": "python3"
  },
  "language_info": {
   "codemirror_mode": {
    "name": "ipython",
    "version": 3
   },
   "file_extension": ".py",
   "mimetype": "text/x-python",
   "name": "python",
   "nbconvert_exporter": "python",
   "pygments_lexer": "ipython3",
   "version": "3.11.0"
  }
 },
 "nbformat": 4,
 "nbformat_minor": 2
}
