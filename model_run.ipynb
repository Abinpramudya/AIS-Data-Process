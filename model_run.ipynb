{
 "cells": [
  {
   "cell_type": "code",
   "execution_count": 60,
   "metadata": {},
   "outputs": [],
   "source": [
    "import numpy as np\n",
    "import pandas as pd\n",
    "from sklearn.tree import DecisionTreeClassifier\n",
    "from sklearn.metrics import accuracy_score\n",
    "from sklearn.model_selection import train_test_split\n",
    "import joblib"
   ]
  },
  {
   "cell_type": "code",
   "execution_count": 61,
   "metadata": {},
   "outputs": [
    {
     "name": "stdout",
     "output_type": "stream",
     "text": [
      "Index(['timestamp', 'sog [kn]', 'lat [deg]', 'lon[deg]', 'STATE'], dtype='object')\n"
     ]
    }
   ],
   "source": [
    "# Read the CSV file with ';' delimiter\n",
    "data = pd.read_csv('test.csv', delimiter=';')\n",
    "print(data.columns)"
   ]
  },
  {
   "cell_type": "code",
   "execution_count": 62,
   "metadata": {},
   "outputs": [],
   "source": [
    "# Load the saved model\n",
    "model = joblib.load('model_johan.pkl')\n",
    "predictions=''\n",
    "confidence_level = 0"
   ]
  },
  {
   "cell_type": "code",
   "execution_count": 63,
   "metadata": {},
   "outputs": [],
   "source": [
    "def predict(lat, lon, sog):\n",
    "    global predictions, confidence_level\n",
    "    # Load new data for prediction\n",
    "    new_data = pd.DataFrame({\n",
    "        'lat[deg]': [lat],\n",
    "        'lon[deg]': [lon],\n",
    "        'sog [kn]': [sog]\n",
    "    })\n",
    "    # Make predictions on the new data\n",
    "    predictions = model.predict(new_data)\n",
    "    \n"
   ]
  },
  {
   "cell_type": "code",
   "execution_count": 64,
   "metadata": {},
   "outputs": [
    {
     "name": "stderr",
     "output_type": "stream",
     "text": [
      "C:\\Users\\abinp\\AppData\\Local\\Temp\\ipykernel_10428\\2555218887.py:11: FutureWarning: Setting an item of incompatible dtype is deprecated and will raise in a future error of pandas. Value 'P1' has dtype incompatible with float64, please explicitly cast to a compatible dtype first.\n",
      "  data.at[index, 'STATE'] = predictions\n"
     ]
    }
   ],
   "source": [
    "# Iterate over the rows\n",
    "for index, row in data.iterrows():\n",
    "    lat = row['lat [deg]']  # Replace 'LAT' with the actual column name\n",
    "    lon = row['lon[deg]']  # Replace 'LON' with the actual column name\n",
    "    sog = row['sog [kn]']  # Replace 'SOG' with the actual column name\n",
    "\n",
    "    # Call the predict function\n",
    "    predict(lat, lon, sog)\n",
    "\n",
    "    # Update the 'STATE' column with the predictions\n",
    "    data.at[index, 'STATE'] = predictions\n",
    "\n",
    "# Save the updated DataFrame to a new CSV file\n",
    "data.to_csv('output3.csv', index=False)"
   ]
  }
 ],
 "metadata": {
  "kernelspec": {
   "display_name": "Python 3",
   "language": "python",
   "name": "python3"
  },
  "language_info": {
   "codemirror_mode": {
    "name": "ipython",
    "version": 3
   },
   "file_extension": ".py",
   "mimetype": "text/x-python",
   "name": "python",
   "nbconvert_exporter": "python",
   "pygments_lexer": "ipython3",
   "version": "3.10.0"
  }
 },
 "nbformat": 4,
 "nbformat_minor": 2
}
