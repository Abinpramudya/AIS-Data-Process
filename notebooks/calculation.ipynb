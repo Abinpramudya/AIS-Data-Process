{
 "cells": [
  {
   "cell_type": "code",
   "execution_count": 42,
   "metadata": {},
   "outputs": [],
   "source": [
    "import csv\n",
    "import os\n",
    "from datetime import datetime\n",
    "import tkinter as tk\n",
    "from tkinter import messagebox"
   ]
  },
  {
   "cell_type": "markdown",
   "metadata": {},
   "source": [
    "## testing area"
   ]
  },
  {
   "cell_type": "code",
   "execution_count": 43,
   "metadata": {},
   "outputs": [],
   "source": [
    "current_dir = os.getcwd()\n",
    "root_dir = os.path.abspath(os.path.join(current_dir, os.pardir))\n",
    "\n",
    "#input file\n",
    "input_path = os.path.join(root_dir,\"output\", \"413145000.csv\")\n",
    "file_path = os.path.join(root_dir,\"output\", \"413145000.csv\")\n",
    "\n",
    "#calculation file\n",
    "output_path = os.path.join(root_dir,\"output\", \"calculation.csv\")"
   ]
  },
  {
   "cell_type": "code",
   "execution_count": 44,
   "metadata": {},
   "outputs": [
    {
     "name": "stdout",
     "output_type": "stream",
     "text": [
      "P0: 2996.86 hours\n",
      "P1: 3.48 hours\n",
      "P2: 25.24 hours\n",
      "P3: 1.17 hours\n"
     ]
    }
   ],
   "source": [
    "def calculate_time_per_state(file_path):\n",
    "\n",
    "    time_per_state = {}\n",
    "    state_counts = {}\n",
    "    earliest_timestamps = {}\n",
    "    previous_state = None  # Track the previous state\n",
    "\n",
    "    with open(file_path, 'r') as csvfile:\n",
    "        reader = csv.reader(csvfile, delimiter=';')\n",
    "        header_row = next(reader)  # Read the header row\n",
    "        timestamp_index = header_row.index('timestamp')\n",
    "        state_index = header_row.index('STATE')\n",
    "\n",
    "        for row in reader:\n",
    "            timestamp_str = row[timestamp_index]\n",
    "            state = row[state_index]\n",
    "            timestamp = datetime.strptime(timestamp_str, \"%Y-%m-%dT%H:%M:%S\")\n",
    "\n",
    "            # Count state occurrences\n",
    "            state_counts[state] = state_counts.get(state, 0) + 1\n",
    "\n",
    "            # Initialize earliest timestamp for each state\n",
    "            if state not in earliest_timestamps:\n",
    "                earliest_timestamps[state] = timestamp\n",
    "\n",
    "            # Calculate time spent when state changes\n",
    "            if previous_state and previous_state != state:\n",
    "                time_spent = (timestamp - earliest_timestamps[previous_state]).total_seconds() / 3600  # Convert to hours\n",
    "                time_per_state[previous_state] = time_per_state.get(previous_state, 0) + time_spent  # Accumulate time spent\n",
    "\n",
    "                # Update earliest timestamp for the current state\n",
    "                earliest_timestamps[state] = timestamp\n",
    "\n",
    "            previous_state = state  # Update previous state\n",
    "\n",
    "    # Calculate time spent for the last state, if any\n",
    "    if previous_state is not None and previous_state in earliest_timestamps:\n",
    "        current_timestamp = datetime.now()  # Use current timestamp as the end time for incomplete data\n",
    "        time_spent = (current_timestamp - earliest_timestamps[previous_state]).total_seconds() / 3600\n",
    "        time_per_state[previous_state] = time_per_state.get(previous_state, 0) + time_spent\n",
    "\n",
    "    return time_per_state\n",
    "\n",
    "# Example usage:\n",
    "time_spent_per_state = calculate_time_per_state(input_path)\n",
    "\n",
    "# Extract values for each state (P0, P1, P2, P3)\n",
    "p0_hours = time_spent_per_state.get('P0', 0)\n",
    "p1_hours = time_spent_per_state.get('P1', 0)\n",
    "p2_hours = time_spent_per_state.get('P2', 0)\n",
    "p3_hours = time_spent_per_state.get('P3', 0)\n",
    "\n",
    "# Print the extracted values\n",
    "print(f\"P0: {p0_hours:.2f} hours\")\n",
    "print(f\"P1: {p1_hours:.2f} hours\")\n",
    "print(f\"P2: {p2_hours:.2f} hours\")\n",
    "print(f\"P3: {p3_hours:.2f} hours\")\n"
   ]
  },
  {
   "cell_type": "code",
   "execution_count": 50,
   "metadata": {},
   "outputs": [],
   "source": [
    "def labuh(GT, kunjungan,tipe):\n",
    "    global total_labuh\n",
    "    \n",
    "    if tipe == True:\n",
    "        tarif = 1518\n",
    "    else:\n",
    "        tarif = 90\n",
    "\n",
    "    total_labuh = GT * tarif * kunjungan\n",
    "    return total_labuh"
   ]
  },
  {
   "cell_type": "code",
   "execution_count": 51,
   "metadata": {},
   "outputs": [],
   "source": [
    "def pandu(GT, tipe):\n",
    "    global total_pandu , pnbp_pandu\n",
    "    # International ships\n",
    "    if tipe is True:\n",
    "        tetap = 102\n",
    "        variabel = 0.03 * GT\n",
    "\n",
    "    # Domestic ships\n",
    "    else:\n",
    "        tetap = 225000\n",
    "        variabel = 45 * GT\n",
    "\n",
    "    total_pandu = tetap + variabel\n",
    "    pnbp_pandu = total_pandu * 0.05\n",
    "\n",
    "    return total_pandu, pnbp_pandu"
   ]
  },
  {
   "cell_type": "code",
   "execution_count": 52,
   "metadata": {},
   "outputs": [],
   "source": [
    "def tunda(GT,HP, durasi,tipe):\n",
    "    global total_tunda , pnbp_tunda\n",
    "    if GT in range(0,3500):\n",
    "        if tipe == True:\n",
    "            tetap = (HP/HP) * durasi * 187 \n",
    "            variabel =  (HP/HP) * durasi * 0.005\n",
    "        else:\n",
    "            tetap = (HP/HP) * durasi * 670.5 \n",
    "            variabel =  (HP/HP) * durasi * 30\n",
    "\n",
    "    if GT in range(3501,8000):\n",
    "        if tipe == True:\n",
    "            tetap = (HP/HP) * durasi * 460 \n",
    "            variabel =  (HP/HP) * durasi * 0.005\n",
    "        else:\n",
    "            tetap = (HP/HP) * durasi * 958367 \n",
    "            variabel =  (HP/HP) * durasi * 30\n",
    "\n",
    "    if GT in range(8001,14000):\n",
    "        if tipe == True:\n",
    "            tetap = (HP/HP) * durasi * 696 \n",
    "            variabel =  (HP/HP) * durasi * 0.005\n",
    "        else:\n",
    "            tetap = (HP/HP) * durasi * 1443149 \n",
    "            variabel =  (HP/HP) * durasi * 30\n",
    "    \n",
    "    if GT in range(14001,18000):\n",
    "        if tipe == True:\n",
    "            tetap = (HP/HP) * durasi * 936 \n",
    "            variabel =  (HP/HP) * durasi * 0.005\n",
    "        else:\n",
    "            tetap = (HP/HP) * durasi * 2043824 \n",
    "            variabel =  (HP/HP) * durasi * 30\n",
    "\n",
    "    if GT in range(18001,26000):\n",
    "        if tipe == True:\n",
    "            tetap = (HP/HP) * durasi * 1498 \n",
    "            variabel =  (HP/HP) * durasi * 0.005\n",
    "        else:\n",
    "            tetap = (HP/HP) * durasi * 2850000 \n",
    "            variabel =  (HP/HP) * durasi * 30\n",
    "\n",
    "    if GT in range(26001,40000):\n",
    "        if tipe == True:\n",
    "            tetap = (HP/HP) * durasi * 1605\n",
    "            variabel =  (HP/HP) * durasi * 0.005\n",
    "        else:\n",
    "            tetap = (HP/HP) * durasi * 3300000\n",
    "            variabel =  (HP/HP) * durasi * 30\n",
    "\n",
    "    if GT in range(40001,75000):\n",
    "        if tipe == True:\n",
    "            tetap = (HP/HP) * durasi * 1766\n",
    "            variabel =  (HP/HP) * durasi * 0.005\n",
    "        else:\n",
    "            tetap = (HP/HP) * durasi * 3750000\n",
    "            variabel =  (HP/HP) * durasi * 30\n",
    "\n",
    "    if GT in range(75000,250000):\n",
    "        if tipe == True:\n",
    "            tetap = (HP/HP) * durasi * 2001\n",
    "            variabel =  (HP/HP) * durasi * 0.005\n",
    "        else:\n",
    "            tetap = (HP/HP) * durasi * 450000\n",
    "            variabel =  (HP/HP) * durasi * 30\n",
    "    total_tunda = tetap + variabel\n",
    "    pnbp_tunda = total_tunda * 5\n",
    "\n",
    "    return total_tunda , pnbp_tunda\n",
    "    "
   ]
  },
  {
   "cell_type": "code",
   "execution_count": 53,
   "metadata": {},
   "outputs": [],
   "source": [
    "def tambat (durasi,GT,tipe):\n",
    "    global total_tambat\n",
    "    etmal = durasi / 24\n",
    "    if tipe == True:\n",
    "        total_tambat = etmal * 0.131 * GT\n",
    "    else:\n",
    "        total_tambat = etmal * 116 * GT\n"
   ]
  },
  {
   "cell_type": "markdown",
   "metadata": {},
   "source": [
    "### perhitungan dasar"
   ]
  },
  {
   "cell_type": "code",
   "execution_count": 54,
   "metadata": {},
   "outputs": [
    {
     "name": "stdout",
     "output_type": "stream",
     "text": [
      "total labuh: 62969676\n",
      "total pandu 1 : 1346.46\n",
      "total pandu 2 : 1346.46\n",
      "pnbp pandu 1: : 67.32300000000001\n",
      "pnbp pandu 2: : 67.32300000000001\n",
      "total tunda 1: 6136.867375000001\n",
      "pnbp tunda 1 30684.336875000005\n",
      "total tunda 2: 2062.7919513888887\n",
      "pnbp tunda 2 10313.959756944443\n",
      "total tambat: 5714.78021300926\n"
     ]
    }
   ],
   "source": [
    "gt = 41482\n",
    "tipe = True\n",
    "labuh(gt,1,tipe)\n",
    "print('total labuh:',total_labuh)\n",
    "\n",
    "pandu(gt,tipe)\n",
    "print('total pandu 1 :',total_pandu)\n",
    "print('total pandu 2 :',total_pandu)\n",
    "\n",
    "print('pnbp pandu 1: :',pnbp_pandu)\n",
    "print('pnbp pandu 2: :',pnbp_pandu)\n",
    "\n",
    "tunda(gt,1,p1_hours,tipe)\n",
    "print('total tunda 1:',total_tunda)\n",
    "print('pnbp tunda 1', pnbp_tunda)\n",
    "\n",
    "tunda(gt,1,p3_hours,tipe)\n",
    "\n",
    "print('total tunda 2:',total_tunda)\n",
    "print('pnbp tunda 2', pnbp_tunda)\n",
    "\n",
    "tambat(p2_hours,gt,tipe)\n",
    "print('total tambat:', total_tambat)"
   ]
  },
  {
   "cell_type": "code",
   "execution_count": null,
   "metadata": {},
   "outputs": [],
   "source": []
  }
 ],
 "metadata": {
  "kernelspec": {
   "display_name": "Python 3",
   "language": "python",
   "name": "python3"
  },
  "language_info": {
   "codemirror_mode": {
    "name": "ipython",
    "version": 3
   },
   "file_extension": ".py",
   "mimetype": "text/x-python",
   "name": "python",
   "nbconvert_exporter": "python",
   "pygments_lexer": "ipython3",
   "version": "3.11.0"
  }
 },
 "nbformat": 4,
 "nbformat_minor": 2
}
