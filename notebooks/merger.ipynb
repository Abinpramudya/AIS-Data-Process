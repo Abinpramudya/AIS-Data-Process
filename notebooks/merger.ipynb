{
 "cells": [
  {
   "cell_type": "code",
   "execution_count": 1,
   "metadata": {},
   "outputs": [],
   "source": [
    "import glob\n",
    "import pandas as pd\n",
    "import os"
   ]
  },
  {
   "cell_type": "code",
   "execution_count": 2,
   "metadata": {},
   "outputs": [],
   "source": [
    "current_dir = os.getcwd()\n",
    "root_dir = os.path.abspath(os.path.join(current_dir, os.pardir))\n",
    "\n",
    "#train file\n",
    "folder_path = os.path.join(root_dir, \"data\", \"DATA AIS STATE\")"
   ]
  },
  {
   "cell_type": "code",
   "execution_count": 4,
   "metadata": {},
   "outputs": [
    {
     "name": "stdout",
     "output_type": "stream",
     "text": [
      "CSV files merged successfully!\n"
     ]
    }
   ],
   "source": [
    "# Find all CSV files in the folder\n",
    "csv_files = glob.glob(folder_path + '/*.csv')\n",
    "\n",
    "# Initialize an empty list to store the DataFrames\n",
    "dataframes = []\n",
    "\n",
    "# Read each CSV file into a DataFrame, ensuring consistent headers\n",
    "for file in csv_files:\n",
    "    df = pd.read_csv(file, delimiter=';')\n",
    "    dataframes.append(df)\n",
    "\n",
    "# Merge the DataFrames based on common headers\n",
    "merged_df = pd.concat(dataframes, ignore_index=True)\n",
    "\n",
    "# Write the merged DataFrame to a new CSV file in the same folder\n",
    "merged_df.to_csv(folder_path + '/merged_data.csv', index=False, sep=';')  # Delimiter specified as ';'\n",
    "\n",
    "print(\"CSV files merged successfully!\")"
   ]
  }
 ],
 "metadata": {
  "kernelspec": {
   "display_name": "Python 3",
   "language": "python",
   "name": "python3"
  },
  "language_info": {
   "codemirror_mode": {
    "name": "ipython",
    "version": 3
   },
   "file_extension": ".py",
   "mimetype": "text/x-python",
   "name": "python",
   "nbconvert_exporter": "python",
   "pygments_lexer": "ipython3",
   "version": "3.10.0"
  }
 },
 "nbformat": 4,
 "nbformat_minor": 2
}
