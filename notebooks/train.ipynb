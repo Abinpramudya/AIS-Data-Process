{
 "cells": [
  {
   "cell_type": "code",
   "execution_count": 7,
   "metadata": {},
   "outputs": [],
   "source": [
    "import numpy as np\n",
    "import os\n",
    "import pandas as pd\n",
    "from sklearn.ensemble import RandomForestClassifier \n",
    "from sklearn.metrics import accuracy_score, f1_score\n",
    "from sklearn.model_selection import train_test_split\n",
    "import joblib\n",
    "import matplotlib.pyplot as plt\n",
    "from sklearn.model_selection import train_test_split\n"
   ]
  },
  {
   "cell_type": "markdown",
   "metadata": {},
   "source": [
    "### file directory"
   ]
  },
  {
   "cell_type": "code",
   "execution_count": 3,
   "metadata": {},
   "outputs": [],
   "source": [
    "current_dir = os.getcwd()\n",
    "root_dir = os.path.abspath(os.path.join(current_dir, os.pardir))\n",
    "\n",
    "#train file\n",
    "train_file = os.path.join(root_dir, \"data\", \"train.csv\")\n",
    "\n",
    "#model file\n",
    "model_file = os.path.join(root_dir,\"model\", \"prediction_model.pkl\")"
   ]
  },
  {
   "cell_type": "markdown",
   "metadata": {},
   "source": [
    "## read csv data distribution on the training"
   ]
  },
  {
   "cell_type": "code",
   "execution_count": 4,
   "metadata": {},
   "outputs": [
    {
     "data": {
      "image/png": "[encoded data removed]",
      "text/plain": [
       "<Figure size 640x480 with 1 Axes>"
      ]
     },
     "metadata": {},
     "output_type": "display_data"
    }
   ],
   "source": [
    "import matplotlib.pyplot as plt\n",
    "\n",
    "try:\n",
    "    data = pd.read_csv(train_file, delimiter=',')\n",
    "    X = data[['lat [deg]', 'lon [deg]', 'sog [kn]', 'heading [deg]', 'cog [deg]']]\n",
    "    y = data['STATE']\n",
    "\n",
    "    # Create a bar chart with 'STATE' as the x-axis and counts as the y-axis\n",
    "    plt.bar(y.value_counts().index, y.value_counts().values)\n",
    "\n",
    "    # Customize the plot for clarity\n",
    "    plt.xlabel('STATE')  # Label the x-axis\n",
    "    plt.ylabel('Count')  # Label the y-axis\n",
    "    plt.title('STATE distribution data')  # Add a title\n",
    "    plt.xticks(rotation=45, ha='right')  # Rotate x-axis labels for better readability\n",
    "    plt.tight_layout()  # Adjust layout for better spacing\n",
    "\n",
    "    plt.show()  # Display the plot\n",
    "\n",
    "except FileNotFoundError:\n",
    "    print(\"Error: train_file not found.\")\n"
   ]
  },
  {
   "cell_type": "markdown",
   "metadata": {},
   "source": [
    "## training function\n",
    "### i use 80/20 distribution due to the small amout of data"
   ]
  },
  {
   "cell_type": "code",
   "execution_count": 5,
   "metadata": {},
   "outputs": [],
   "source": [
    "X_train, X_test, y_train, y_test = train_test_split(X, y, test_size=0.25, random_state=42, stratify=y)\n",
    "\n",
    "try:\n",
    "    model = RandomForestClassifier()\n",
    "    model.fit(X_train, y_train)\n",
    "\n",
    "except:\n",
    "    print(\"Rows with NaN values in X_train:\")\n",
    "    print(X_train[X_train.isna().any(axis=1)])\n"
   ]
  },
  {
   "cell_type": "code",
   "execution_count": 6,
   "metadata": {},
   "outputs": [
    {
     "data": {
      "text/plain": [
       "['c:\\\\Users\\\\abinp\\\\Documents\\\\ITS\\\\semester 8\\\\commision\\\\AIS-Data-Process\\\\model\\\\prediction_model.pkl']"
      ]
     },
     "execution_count": 6,
     "metadata": {},
     "output_type": "execute_result"
    }
   ],
   "source": [
    "joblib.dump(model, model_file)"
   ]
  },
  {
   "cell_type": "code",
   "execution_count": 10,
   "metadata": {},
   "outputs": [
    {
     "name": "stdout",
     "output_type": "stream",
     "text": [
      "Accuracy scores: [0.77595227 0.91828522 0.93633566 0.98117443 0.9479147 ]\n",
      "Mean accuracy: 0.9119324568927116\n",
      "F1-scores: [0.77595227 0.91828522 0.93633566 0.98117443 0.9479147 ]\n",
      "Mean F1-score: 0.9119324568927116\n"
     ]
    }
   ],
   "source": [
    "y_pred = model.predict(X_test)\n",
    "accuracy = accuracy_score(y_test, y_pred)\n",
    "f1 = f1_score(y_test, y_pred, average='macro')\n",
    "\n",
    "print(\"Accuracy:\", accuracy)\n",
    "print(\"F1-score:\", f1)\n"
   ]
  }
 ],
 "metadata": {
  "kernelspec": {
   "display_name": "Python 3",
   "language": "python",
   "name": "python3"
  },
  "language_info": {
   "codemirror_mode": {
    "name": "ipython",
    "version": 3
   },
   "file_extension": ".py",
   "mimetype": "text/x-python",
   "name": "python",
   "nbconvert_exporter": "python",
   "pygments_lexer": "ipython3",
   "version": "3.10.0"
  }
 },
 "nbformat": 4,
 "nbformat_minor": 2
}
