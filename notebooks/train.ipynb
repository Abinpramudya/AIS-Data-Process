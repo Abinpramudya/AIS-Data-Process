{
 "cells": [
  {
   "cell_type": "code",
   "execution_count": 30,
   "metadata": {},
   "outputs": [],
   "source": [
    "import numpy as np\n",
    "import os\n",
    "import pandas as pd\n",
    "from sklearn.tree import DecisionTreeClassifier\n",
    "from sklearn.metrics import accuracy_score\n",
    "from sklearn.model_selection import train_test_split\n",
    "import joblib\n",
    "import matplotlib.pyplot as plt"
   ]
  },
  {
   "cell_type": "markdown",
   "metadata": {},
   "source": [
    "### file directory"
   ]
  },
  {
   "cell_type": "code",
   "execution_count": 32,
   "metadata": {},
   "outputs": [],
   "source": [
    "current_dir = os.getcwd()\n",
    "root_dir = os.path.abspath(os.path.join(current_dir, os.pardir))\n",
    "\n",
    "#train file\n",
    "train_file = os.path.join(root_dir, \"data\", \"train.csv\")\n",
    "\n",
    "#model file\n",
    "model_file = os.path.join(root_dir,\"model\", \"prediction_model.pkl\")"
   ]
  },
  {
   "cell_type": "markdown",
   "metadata": {},
   "source": [
    "## read csv data distribution on the training"
   ]
  },
  {
   "cell_type": "code",
   "execution_count": 33,
   "metadata": {},
   "outputs": [
    {
     "data": {
      "image/png": "[encoded data removed]",
      "text/plain": [
       "<Figure size 640x480 with 1 Axes>"
      ]
     },
     "metadata": {},
     "output_type": "display_data"
    }
   ],
   "source": [
    "#read the csv data\n",
    "try:\n",
    "    data = pd.read_csv(train_file,delimiter=';')\n",
    "    X = data[['lat[deg]', 'lon[deg]','sog[kn]']]\n",
    "    y = data['STATE']\n",
    "\n",
    "    # Get the unique states and their counts\n",
    "    states, counts = np.unique(y, return_counts=True)\n",
    "\n",
    "    # Create the bar chart\n",
    "    plt.bar(states, counts)\n",
    "\n",
    "    # Customize the chart\n",
    "    plt.xlabel(\"States\")\n",
    "    plt.ylabel(\"Counts\")\n",
    "    plt.title(\"Distribution of States in the Data\")\n",
    "    plt.xticks(rotation=45, ha='right')  # Rotate x-axis labels for readability\n",
    "    plt.tight_layout()  # Adjust layout for better spacing\n",
    "\n",
    "    # Display the chart\n",
    "    plt.show()\n",
    "except:\n",
    "    print('data not found')"
   ]
  },
  {
   "cell_type": "markdown",
   "metadata": {},
   "source": [
    "## training function\n",
    "### i use 80/20 distribution due to the small amout of data"
   ]
  },
  {
   "cell_type": "code",
   "execution_count": 34,
   "metadata": {},
   "outputs": [
    {
     "data": {
      "text/html": [
       "<style>#sk-container-id-4 {color: black;}#sk-container-id-4 pre{padding: 0;}#sk-container-id-4 div.sk-toggleable {background-color: white;}#sk-container-id-4 label.sk-toggleable__label {cursor: pointer;display: block;width: 100%;margin-bottom: 0;padding: 0.3em;box-sizing: border-box;text-align: center;}#sk-container-id-4 label.sk-toggleable__label-arrow:before {content: \"▸\";float: left;margin-right: 0.25em;color: #696969;}#sk-container-id-4 label.sk-toggleable__label-arrow:hover:before {color: black;}#sk-container-id-4 div.sk-estimator:hover label.sk-toggleable__label-arrow:before {color: black;}#sk-container-id-4 div.sk-toggleable__content {max-height: 0;max-width: 0;overflow: hidden;text-align: left;background-color: #f0f8ff;}#sk-container-id-4 div.sk-toggleable__content pre {margin: 0.2em;color: black;border-radius: 0.25em;background-color: #f0f8ff;}#sk-container-id-4 input.sk-toggleable__control:checked~div.sk-toggleable__content {max-height: 200px;max-width: 100%;overflow: auto;}#sk-container-id-4 input.sk-toggleable__control:checked~label.sk-toggleable__label-arrow:before {content: \"▾\";}#sk-container-id-4 div.sk-estimator input.sk-toggleable__control:checked~label.sk-toggleable__label {background-color: #d4ebff;}#sk-container-id-4 div.sk-label input.sk-toggleable__control:checked~label.sk-toggleable__label {background-color: #d4ebff;}#sk-container-id-4 input.sk-hidden--visually {border: 0;clip: rect(1px 1px 1px 1px);clip: rect(1px, 1px, 1px, 1px);height: 1px;margin: -1px;overflow: hidden;padding: 0;position: absolute;width: 1px;}#sk-container-id-4 div.sk-estimator {font-family: monospace;background-color: #f0f8ff;border: 1px dotted black;border-radius: 0.25em;box-sizing: border-box;margin-bottom: 0.5em;}#sk-container-id-4 div.sk-estimator:hover {background-color: #d4ebff;}#sk-container-id-4 div.sk-parallel-item::after {content: \"\";width: 100%;border-bottom: 1px solid gray;flex-grow: 1;}#sk-container-id-4 div.sk-label:hover label.sk-toggleable__label {background-color: #d4ebff;}#sk-container-id-4 div.sk-serial::before {content: \"\";position: absolute;border-left: 1px solid gray;box-sizing: border-box;top: 0;bottom: 0;left: 50%;z-index: 0;}#sk-container-id-4 div.sk-serial {display: flex;flex-direction: column;align-items: center;background-color: white;padding-right: 0.2em;padding-left: 0.2em;position: relative;}#sk-container-id-4 div.sk-item {position: relative;z-index: 1;}#sk-container-id-4 div.sk-parallel {display: flex;align-items: stretch;justify-content: center;background-color: white;position: relative;}#sk-container-id-4 div.sk-item::before, #sk-container-id-4 div.sk-parallel-item::before {content: \"\";position: absolute;border-left: 1px solid gray;box-sizing: border-box;top: 0;bottom: 0;left: 50%;z-index: -1;}#sk-container-id-4 div.sk-parallel-item {display: flex;flex-direction: column;z-index: 1;position: relative;background-color: white;}#sk-container-id-4 div.sk-parallel-item:first-child::after {align-self: flex-end;width: 50%;}#sk-container-id-4 div.sk-parallel-item:last-child::after {align-self: flex-start;width: 50%;}#sk-container-id-4 div.sk-parallel-item:only-child::after {width: 0;}#sk-container-id-4 div.sk-dashed-wrapped {border: 1px dashed gray;margin: 0 0.4em 0.5em 0.4em;box-sizing: border-box;padding-bottom: 0.4em;background-color: white;}#sk-container-id-4 div.sk-label label {font-family: monospace;font-weight: bold;display: inline-block;line-height: 1.2em;}#sk-container-id-4 div.sk-label-container {text-align: center;}#sk-container-id-4 div.sk-container {/* jupyter's `normalize.less` sets `[hidden] { display: none; }` but bootstrap.min.css set `[hidden] { display: none !important; }` so we also need the `!important` here to be able to override the default hidden behavior on the sphinx rendered scikit-learn.org. See: https://github.com/scikit-learn/scikit-learn/issues/21755 */display: inline-block !important;position: relative;}#sk-container-id-4 div.sk-text-repr-fallback {display: none;}</style><div id=\"sk-container-id-4\" class=\"sk-top-container\"><div class=\"sk-text-repr-fallback\"><pre>DecisionTreeClassifier()</pre><b>In a Jupyter environment, please rerun this cell to show the HTML representation or trust the notebook. <br />On GitHub, the HTML representation is unable to render, please try loading this page with nbviewer.org.</b></div><div class=\"sk-container\" hidden><div class=\"sk-item\"><div class=\"sk-estimator sk-toggleable\"><input class=\"sk-toggleable__control sk-hidden--visually\" id=\"sk-estimator-id-4\" type=\"checkbox\" checked><label for=\"sk-estimator-id-4\" class=\"sk-toggleable__label sk-toggleable__label-arrow\">DecisionTreeClassifier</label><div class=\"sk-toggleable__content\"><pre>DecisionTreeClassifier()</pre></div></div></div></div></div>"
      ],
      "text/plain": [
       "DecisionTreeClassifier()"
      ]
     },
     "execution_count": 34,
     "metadata": {},
     "output_type": "execute_result"
    }
   ],
   "source": [
    "X_train, X_test, y_train, y_test = train_test_split(X, y, test_size=0.2, random_state=42)\n",
    "\n",
    "model = DecisionTreeClassifier()\n",
    "model.fit(X_train, y_train)"
   ]
  },
  {
   "cell_type": "code",
   "execution_count": 35,
   "metadata": {},
   "outputs": [
    {
     "data": {
      "text/plain": [
       "['c:\\\\Users\\\\abinp\\\\Documents\\\\ITS\\\\semester 8\\\\commision\\\\AIS-Data-Process\\\\model\\\\prediction_model.pkl']"
      ]
     },
     "execution_count": 35,
     "metadata": {},
     "output_type": "execute_result"
    }
   ],
   "source": [
    "joblib.dump(model, model_file)"
   ]
  },
  {
   "cell_type": "code",
   "execution_count": 36,
   "metadata": {},
   "outputs": [
    {
     "name": "stdout",
     "output_type": "stream",
     "text": [
      "      lat[deg]    lon[deg]  sog[kn]\n",
      "1085 -7.181158  112.685945      4.2\n",
      "2296 -6.662225  112.652965     15.4\n",
      "208  -6.784505  112.745317     10.3\n",
      "1178 -7.187602  112.689097      0.0\n",
      "282  -6.832227  112.745740      2.8\n",
      "...        ...         ...      ...\n",
      "1159 -7.187627  112.689142      0.1\n",
      "1422 -7.187603  112.689122      0.0\n",
      "857  -7.101837  112.658368     14.4\n",
      "1619 -7.186090  112.689685      2.1\n",
      "360  -6.848117  112.744963      4.4\n",
      "\n",
      "[460 rows x 3 columns]\n",
      "['P3' 'P5' 'P1' 'P4' 'P2' 'P3' 'P3' 'P4' 'P1' 'P5' 'P5' 'P3' 'P3' 'P3'\n",
      " 'P4' 'P4' 'P3' 'P5' 'P5' 'P5' 'P3' 'P4' 'P5' 'P3' 'P3' 'P4' 'P4' 'P4'\n",
      " 'P5' 'P1' 'P5' 'P3' 'P3' 'P3' 'P3' 'P5' 'P1' 'P1' 'P5' 'P1' 'P3' 'P3'\n",
      " 'P5' 'P3' 'P4' 'P5' 'P4' 'P4' 'P5' 'P5' 'P3' 'P3' 'P4' 'P3' 'P5' 'P5'\n",
      " 'P4' 'P1' 'P3' 'P3' 'P3' 'P1' 'P5' 'P5' 'P4' 'P5' 'P5' 'P4' 'P5' 'P5'\n",
      " 'P5' 'P3' 'P4' 'P3' 'P5' 'P4' 'P3' 'P3' 'P5' 'P3' 'P5' 'P3' 'P4' 'P4'\n",
      " 'P3' 'P3' 'P5' 'P3' 'P3' 'P3' 'P1' 'P5' 'P5' 'P5' 'P3' 'P5' 'P3' 'P5'\n",
      " 'P3' 'P3' 'P5' 'P3' 'P4' 'P3' 'P3' 'P4' 'P3' 'P5' 'P5' 'P5' 'P3' 'P1'\n",
      " 'P5' 'P4' 'P3' 'P1' 'P4' 'P5' 'P5' 'P3' 'P3' 'P4' 'P5' 'P5' 'P4' 'P5'\n",
      " 'P3' 'P3' 'P1' 'P4' 'P5' 'P3' 'P3' 'P3' 'P5' 'P3' 'P3' 'P5' 'P3' 'P5'\n",
      " 'P3' 'P4' 'P4' 'P2' 'P5' 'P5' 'P1' 'P3' 'P5' 'P3' 'P3' 'P4' 'P3' 'P3'\n",
      " 'P3' 'P5' 'P4' 'P1' 'P3' 'P3' 'P3' 'P5' 'P5' 'P3' 'P5' 'P5' 'P5' 'P4'\n",
      " 'P5' 'P3' 'P5' 'P1' 'P5' 'P4' 'P5' 'P3' 'P5' 'P4' 'P4' 'P4' 'P1' 'P4'\n",
      " 'P5' 'P4' 'P3' 'P1' 'P3' 'P3' 'P1' 'P5' 'P5' 'P5' 'P3' 'P1' 'P5' 'P1'\n",
      " 'P3' 'P3' 'P3' 'P2' 'P3' 'P3' 'P5' 'P5' 'P5' 'P1' 'P4' 'P5' 'P4' 'P5'\n",
      " 'P3' 'P4' 'P5' 'P2' 'P5' 'P4' 'P4' 'P4' 'P3' 'P5' 'P3' 'P1' 'P4' 'P3'\n",
      " 'P3' 'P1' 'P4' 'P3' 'P1' 'P3' 'P1' 'P3' 'P1' 'P3' 'P3' 'P5' 'P5' 'P4'\n",
      " 'P3' 'P3' 'P1' 'P4' 'P1' 'P5' 'P4' 'P3' 'P5' 'P3' 'P3' 'P1' 'P5' 'P3'\n",
      " 'P3' 'P5' 'P3' 'P4' 'P5' 'P4' 'P4' 'P1' 'P5' 'P4' 'P3' 'P5' 'P5' 'P1'\n",
      " 'P4' 'P4' 'P5' 'P5' 'P3' 'P1' 'P3' 'P4' 'P4' 'P3' 'P3' 'P3' 'P4' 'P5'\n",
      " 'P4' 'P3' 'P5' 'P5' 'P1' 'P1' 'P1' 'P5' 'P5' 'P5' 'P5' 'P1' 'P2' 'P5'\n",
      " 'P3' 'P4' 'P5' 'P3' 'P1' 'P5' 'P1' 'P3' 'P5' 'P3' 'P5' 'P1' 'P4' 'P4'\n",
      " 'P5' 'P1' 'P3' 'P4' 'P4' 'P5' 'P2' 'P3' 'P3' 'P4' 'P5' 'P4' 'P3' 'P5'\n",
      " 'P1' 'P3' 'P3' 'P4' 'P3' 'P4' 'P5' 'P3' 'P3' 'P3' 'P3' 'P3' 'P5' 'P5'\n",
      " 'P3' 'P3' 'P3' 'P4' 'P4' 'P4' 'P3' 'P3' 'P4' 'P3' 'P1' 'P1' 'P5' 'P1'\n",
      " 'P2' 'P3' 'P3' 'P4' 'P3' 'P5' 'P1' 'P3' 'P5' 'P5' 'P3' 'P5' 'P5' 'P5'\n",
      " 'P5' 'P4' 'P4' 'P4' 'P5' 'P4' 'P3' 'P1' 'P4' 'P4' 'P3' 'P3' 'P5' 'P5'\n",
      " 'P5' 'P4' 'P5' 'P4' 'P3' 'P5' 'P1' 'P3' 'P3' 'P4' 'P5' 'P4' 'P3' 'P3'\n",
      " 'P3' 'P3' 'P3' 'P5' 'P3' 'P2' 'P4' 'P1' 'P1' 'P5' 'P2' 'P3' 'P4' 'P5'\n",
      " 'P5' 'P5' 'P3' 'P3' 'P3' 'P5' 'P1' 'P5' 'P1' 'P3' 'P3' 'P5' 'P5' 'P3'\n",
      " 'P5' 'P3' 'P1' 'P4' 'P3' 'P5' 'P5' 'P4' 'P5' 'P5' 'P5' 'P1' 'P3' 'P3'\n",
      " 'P4' 'P3' 'P1' 'P3' 'P3' 'P5' 'P1' 'P5' 'P1' 'P4' 'P5' 'P5' 'P5' 'P4'\n",
      " 'P5' 'P4' 'P5' 'P4' 'P5' 'P5' 'P3' 'P4' 'P4' 'P3' 'P5' 'P3']\n",
      "model accuracy score: 0.9717391304347827\n"
     ]
    }
   ],
   "source": [
    "y_pred = model.predict(X_test)\n",
    "accuracy = accuracy_score(y_test, y_pred)\n",
    "\n",
    "print(X_test)\n",
    "print(y_pred)\n",
    "print('model accuracy score:',accuracy) \n"
   ]
  }
 ],
 "metadata": {
  "kernelspec": {
   "display_name": "Python 3",
   "language": "python",
   "name": "python3"
  },
  "language_info": {
   "codemirror_mode": {
    "name": "ipython",
    "version": 3
   },
   "file_extension": ".py",
   "mimetype": "text/x-python",
   "name": "python",
   "nbconvert_exporter": "python",
   "pygments_lexer": "ipython3",
   "version": "3.10.0"
  }
 },
 "nbformat": 4,
 "nbformat_minor": 2
}
