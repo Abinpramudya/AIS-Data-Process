{
 "cells": [
  {
   "cell_type": "code",
   "execution_count": 1,
   "metadata": {},
   "outputs": [],
   "source": [
    "import numpy as np\n",
    "import pandas as pd\n",
    "from sklearn.tree import DecisionTreeClassifier\n",
    "from sklearn.metrics import accuracy_score\n",
    "from sklearn.model_selection import train_test_split\n",
    "import joblib\n",
    "import os"
   ]
  },
  {
   "cell_type": "markdown",
   "metadata": {},
   "source": [
    "### file directory"
   ]
  },
  {
   "cell_type": "code",
   "execution_count": 2,
   "metadata": {},
   "outputs": [],
   "source": [
    "current_dir = os.getcwd()\n",
    "root_dir = os.path.abspath(os.path.join(current_dir, os.pardir))\n",
    "\n",
    "#input file\n",
    "input_file = os.path.join(root_dir, \"data\", \"test.csv\")\n",
    "\n",
    "#model file\n",
    "model_file = os.path.join(root_dir,\"model\", \"prediction_model.pkl\")\n",
    "\n",
    "#output file\n",
    "output_file = os.path.join(root_dir,\"output\", \"output.csv\")"
   ]
  },
  {
   "cell_type": "code",
   "execution_count": 3,
   "metadata": {},
   "outputs": [
    {
     "name": "stdout",
     "output_type": "stream",
     "text": [
      "Column Headers:\n",
      "- timestamp\n",
      "- lat [deg]\n",
      "- lon [deg]\n",
      "- sog [kn]\n",
      "- draught [m]\n",
      "- heading [deg]\n",
      "- cog [deg]\n",
      "- rot [deg/min]\n",
      "- zone  [UTM]\n",
      "- band  [UTM]\n",
      "- easting [UTM]\n",
      "- northing [UTM]\n"
     ]
    }
   ],
   "source": [
    "# Read the CSV file with ';' delimiter\n",
    "try:\n",
    "    input = pd.read_csv(input_file,delimiter=';')\n",
    "\n",
    "    print(\"Column Headers:\")\n",
    "    for col in input.columns:\n",
    "        print(f\"- {col}\")\n",
    "except:\n",
    "    print('file input not found')"
   ]
  },
  {
   "cell_type": "code",
   "execution_count": 4,
   "metadata": {},
   "outputs": [],
   "source": [
    "# Load the saved model\n",
    "model = joblib.load(model_file)\n",
    "predictions=''\n",
    "confidence_level = 0"
   ]
  },
  {
   "cell_type": "code",
   "execution_count": 5,
   "metadata": {},
   "outputs": [],
   "source": [
    "def predict(lat, lon, sog, heading, cog):\n",
    "    global predictions, confidence_level\n",
    "    # Load new data for prediction\n",
    "    new_data = pd.DataFrame({\n",
    "        'lat [deg]': [lat],\n",
    "        'lon [deg]': [lon],\n",
    "        'sog [kn]': [sog],\n",
    "        'heading [deg]' : [heading],\n",
    "        'cog [deg]' : [cog]\n",
    "    })\n",
    "    # Make predictions on the new data\n",
    "    predictions = model.predict(new_data)"
   ]
  },
  {
   "cell_type": "code",
   "execution_count": 6,
   "metadata": {},
   "outputs": [],
   "source": [
    "# Iterate over the rows\n",
    "for index, row in input.iterrows():\n",
    "    lat = row['lat [deg]']\n",
    "    lon = row['lon [deg]']  \n",
    "    sog = row['sog [kn]']\n",
    "    heading = row['heading [deg]']\n",
    "    cog = row['cog [deg]']\n",
    "\n",
    "    # Call the predict function\n",
    "    predict(lat, lon, sog,heading,cog)\n",
    "\n",
    "    # Update the 'STATE' column with the predictions\n",
    "    input.at[index, 'STATE'] = predictions\n",
    "\n",
    "# Save the updated DataFrame to a new CSV file\n",
    "input.to_csv(output_file, sep=';' , index=False)"
   ]
  },
  {
   "cell_type": "code",
   "execution_count": null,
   "metadata": {},
   "outputs": [],
   "source": []
  }
 ],
 "metadata": {
  "kernelspec": {
   "display_name": "Python 3",
   "language": "python",
   "name": "python3"
  },
  "language_info": {
   "codemirror_mode": {
    "name": "ipython",
    "version": 3
   },
   "file_extension": ".py",
   "mimetype": "text/x-python",
   "name": "python",
   "nbconvert_exporter": "python",
   "pygments_lexer": "ipython3",
   "version": "3.10.0"
  }
 },
 "nbformat": 4,
 "nbformat_minor": 2
}
